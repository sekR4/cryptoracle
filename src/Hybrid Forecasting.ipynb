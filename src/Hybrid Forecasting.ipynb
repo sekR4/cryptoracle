{
 "cells": [
  {
   "cell_type": "code",
   "execution_count": 1,
   "id": "e65dea5c",
   "metadata": {},
   "outputs": [],
   "source": [
    "import pandas as pd\n",
    "import numpy as np\n",
    "import matplotlib.pyplot as plt\n",
    "import seaborn as sns\n",
    "from utils import get_ts\n",
    "from warnings import simplefilter\n",
    "simplefilter(\"ignore\")"
   ]
  },
  {
   "cell_type": "code",
   "execution_count": 2,
   "id": "aa009986",
   "metadata": {},
   "outputs": [
    {
     "data": {
      "text/html": [
       "<div>\n",
       "<style scoped>\n",
       "    .dataframe tbody tr th:only-of-type {\n",
       "        vertical-align: middle;\n",
       "    }\n",
       "\n",
       "    .dataframe tbody tr th {\n",
       "        vertical-align: top;\n",
       "    }\n",
       "\n",
       "    .dataframe thead th {\n",
       "        text-align: right;\n",
       "    }\n",
       "</style>\n",
       "<table border=\"1\" class=\"dataframe\">\n",
       "  <thead>\n",
       "    <tr style=\"text-align: right;\">\n",
       "      <th></th>\n",
       "      <th>prices</th>\n",
       "      <th>market_caps</th>\n",
       "      <th>total_volumes</th>\n",
       "    </tr>\n",
       "  </thead>\n",
       "  <tbody>\n",
       "    <tr>\n",
       "      <th>2013-04-28</th>\n",
       "      <td>103.1862</td>\n",
       "      <td>1.144366e+09</td>\n",
       "      <td>0.0</td>\n",
       "    </tr>\n",
       "    <tr>\n",
       "      <th>2013-04-29</th>\n",
       "      <td>110.3745</td>\n",
       "      <td>1.224594e+09</td>\n",
       "      <td>0.0</td>\n",
       "    </tr>\n",
       "    <tr>\n",
       "      <th>2013-04-30</th>\n",
       "      <td>106.3128</td>\n",
       "      <td>1.179937e+09</td>\n",
       "      <td>0.0</td>\n",
       "    </tr>\n",
       "  </tbody>\n",
       "</table>\n",
       "</div>"
      ],
      "text/plain": [
       "              prices   market_caps  total_volumes\n",
       "2013-04-28  103.1862  1.144366e+09            0.0\n",
       "2013-04-29  110.3745  1.224594e+09            0.0\n",
       "2013-04-30  106.3128  1.179937e+09            0.0"
      ]
     },
     "execution_count": 2,
     "metadata": {},
     "output_type": "execute_result"
    }
   ],
   "source": [
    "df = get_ts(coin=\"bitcoin\",days=\"max\")\n",
    "df.head(3)"
   ]
  },
  {
   "cell_type": "code",
   "execution_count": 3,
   "id": "7994c7e4",
   "metadata": {},
   "outputs": [],
   "source": [
    "# libs for later (check darts)\n",
    "#https://towardsdatascience.com/7-libraries-that-help-in-time-series-problems-d59473e48ddd"
   ]
  },
  {
   "cell_type": "code",
   "execution_count": 4,
   "id": "9e0271e3",
   "metadata": {},
   "outputs": [
    {
     "data": {
      "text/html": [
       "<div>\n",
       "<style scoped>\n",
       "    .dataframe tbody tr th:only-of-type {\n",
       "        vertical-align: middle;\n",
       "    }\n",
       "\n",
       "    .dataframe tbody tr th {\n",
       "        vertical-align: top;\n",
       "    }\n",
       "\n",
       "    .dataframe thead th {\n",
       "        text-align: right;\n",
       "    }\n",
       "</style>\n",
       "<table border=\"1\" class=\"dataframe\">\n",
       "  <thead>\n",
       "    <tr style=\"text-align: right;\">\n",
       "      <th></th>\n",
       "      <th>prices</th>\n",
       "      <th>market_caps</th>\n",
       "      <th>total_volumes</th>\n",
       "    </tr>\n",
       "  </thead>\n",
       "  <tbody>\n",
       "    <tr>\n",
       "      <th>2013-04-28</th>\n",
       "      <td>103.1862</td>\n",
       "      <td>1.144366e+09</td>\n",
       "      <td>0.0</td>\n",
       "    </tr>\n",
       "    <tr>\n",
       "      <th>2013-04-29</th>\n",
       "      <td>110.3745</td>\n",
       "      <td>1.224594e+09</td>\n",
       "      <td>0.0</td>\n",
       "    </tr>\n",
       "    <tr>\n",
       "      <th>2013-04-30</th>\n",
       "      <td>106.3128</td>\n",
       "      <td>1.179937e+09</td>\n",
       "      <td>0.0</td>\n",
       "    </tr>\n",
       "  </tbody>\n",
       "</table>\n",
       "</div>"
      ],
      "text/plain": [
       "              prices   market_caps  total_volumes\n",
       "2013-04-28  103.1862  1.144366e+09            0.0\n",
       "2013-04-29  110.3745  1.224594e+09            0.0\n",
       "2013-04-30  106.3128  1.179937e+09            0.0"
      ]
     },
     "execution_count": 4,
     "metadata": {},
     "output_type": "execute_result"
    }
   ],
   "source": [
    "df.index = pd.to_datetime(df.index)\n",
    "df.head(3)"
   ]
  },
  {
   "cell_type": "code",
   "execution_count": 5,
   "id": "a7bb0ff1",
   "metadata": {},
   "outputs": [],
   "source": [
    "df.fillna(df.mean(), inplace=True)\n",
    "g = df.groupby(pd.Grouper(freq='M')).mean()"
   ]
  },
  {
   "cell_type": "code",
   "execution_count": 6,
   "id": "5fe443eb",
   "metadata": {},
   "outputs": [
    {
     "data": {
      "text/html": [
       "<div>\n",
       "<style scoped>\n",
       "    .dataframe tbody tr th:only-of-type {\n",
       "        vertical-align: middle;\n",
       "    }\n",
       "\n",
       "    .dataframe tbody tr th {\n",
       "        vertical-align: top;\n",
       "    }\n",
       "\n",
       "    .dataframe thead th {\n",
       "        text-align: right;\n",
       "    }\n",
       "</style>\n",
       "<table border=\"1\" class=\"dataframe\">\n",
       "  <thead>\n",
       "    <tr style=\"text-align: right;\">\n",
       "      <th></th>\n",
       "      <th>prices</th>\n",
       "      <th>market_caps</th>\n",
       "      <th>total_volumes</th>\n",
       "    </tr>\n",
       "  </thead>\n",
       "  <tbody>\n",
       "    <tr>\n",
       "      <th>2013-04-30</th>\n",
       "      <td>106.624500</td>\n",
       "      <td>1.182965e+09</td>\n",
       "      <td>0.0</td>\n",
       "    </tr>\n",
       "    <tr>\n",
       "      <th>2013-05-31</th>\n",
       "      <td>92.452955</td>\n",
       "      <td>1.032197e+09</td>\n",
       "      <td>0.0</td>\n",
       "    </tr>\n",
       "    <tr>\n",
       "      <th>2013-06-30</th>\n",
       "      <td>81.467145</td>\n",
       "      <td>9.197531e+08</td>\n",
       "      <td>0.0</td>\n",
       "    </tr>\n",
       "  </tbody>\n",
       "</table>\n",
       "</div>"
      ],
      "text/plain": [
       "                prices   market_caps  total_volumes\n",
       "2013-04-30  106.624500  1.182965e+09            0.0\n",
       "2013-05-31   92.452955  1.032197e+09            0.0\n",
       "2013-06-30   81.467145  9.197531e+08            0.0"
      ]
     },
     "execution_count": 6,
     "metadata": {},
     "output_type": "execute_result"
    }
   ],
   "source": [
    "g.head(3)"
   ]
  },
  {
   "cell_type": "code",
   "execution_count": 7,
   "id": "dbb8f98f",
   "metadata": {},
   "outputs": [],
   "source": [
    "from sklearn.linear_model import LinearRegression\n",
    "from sklearn.model_selection import train_test_split\n",
    "from statsmodels.tsa.deterministic import CalendarFourier, DeterministicProcess\n",
    "from xgboost import XGBRegressor"
   ]
  },
  {
   "cell_type": "code",
   "execution_count": 8,
   "id": "98406778",
   "metadata": {},
   "outputs": [],
   "source": [
    "# Set Matplotlib defaults\n",
    "plt.style.use(\"seaborn-whitegrid\")\n",
    "plt.rc(\n",
    "    \"figure\",\n",
    "    autolayout=True,\n",
    "    figsize=(11, 4),\n",
    "    titlesize=18,\n",
    "    titleweight='bold',\n",
    ")\n",
    "plt.rc(\n",
    "    \"axes\",\n",
    "    labelweight=\"bold\",\n",
    "    labelsize=\"large\",\n",
    "    titleweight=\"bold\",\n",
    "    titlesize=16,\n",
    "    titlepad=10,\n",
    ")\n",
    "plot_params = dict(\n",
    "    color=\"0.75\",\n",
    "    style=\".-\",\n",
    "    markeredgecolor=\"0.25\",\n",
    "    markerfacecolor=\"0.25\",\n",
    ")"
   ]
  },
  {
   "cell_type": "code",
   "execution_count": 9,
   "id": "9da9cda2",
   "metadata": {},
   "outputs": [],
   "source": [
    "y = g.copy()\n",
    "\n",
    "# Create trend features\n",
    "dp = DeterministicProcess(\n",
    "    index=y.index,  # dates from the training data\n",
    "    constant=True,  # the intercept\n",
    "    order=2,        # quadratic trend\n",
    "    drop=True,      # drop terms to avoid collinearity\n",
    ")\n",
    "X = dp.in_sample()  # features for the training data"
   ]
  },
  {
   "cell_type": "code",
   "execution_count": 10,
   "id": "4e00fd2a",
   "metadata": {},
   "outputs": [],
   "source": [
    "# Test last 3 years.\n",
    "idx_train, idx_test = train_test_split(\n",
    "    y.index, test_size=12 * 3, shuffle=False,\n",
    ")\n",
    "X_train, X_test = X.loc[idx_train, :], X.loc[idx_test, :]\n",
    "y_train, y_test = y.loc[idx_train], y.loc[idx_test]"
   ]
  },
  {
   "cell_type": "code",
   "execution_count": 11,
   "id": "340f54cb",
   "metadata": {},
   "outputs": [],
   "source": [
    "# Fit trend model\n",
    "model = LinearRegression(fit_intercept=False)\n",
    "model.fit(X_train, y_train)\n",
    "\n",
    "# Make predictions\n",
    "y_fit = pd.DataFrame(\n",
    "    model.predict(X_train),\n",
    "    index=y_train.index,\n",
    "    columns=y_train.columns,\n",
    ")\n",
    "y_pred = pd.DataFrame(\n",
    "    model.predict(X_test),\n",
    "    index=y_test.index,\n",
    "    columns=y_test.columns,\n",
    ")"
   ]
  },
  {
   "cell_type": "code",
   "execution_count": 12,
   "id": "e165d1fa",
   "metadata": {},
   "outputs": [
    {
     "data": {
      "image/png": "[encoded data removed]",
      "text/plain": [
       "<Figure size 792x288 with 3 Axes>"
      ]
     },
     "metadata": {},
     "output_type": "display_data"
    }
   ],
   "source": [
    "# Plot\n",
    "axs = y_train.plot(color='0.25', subplots=True, sharex=True)\n",
    "axs = y_test.plot(color='0.25', subplots=True, sharex=True, ax=axs)\n",
    "axs = y_fit.plot(color='C0', subplots=True, sharex=True, ax=axs)\n",
    "axs = y_pred.plot(color='C3', subplots=True, sharex=True, ax=axs)\n",
    "for ax in axs: ax.legend([])\n",
    "_ = plt.suptitle(\"Trends\")"
   ]
  },
  {
   "cell_type": "code",
   "execution_count": 13,
   "id": "6c183647",
   "metadata": {},
   "outputs": [],
   "source": [
    "# Stack rows to predict several series with xgb\n",
    "X = g.stack()\n",
    "X = pd.DataFrame(X)\n",
    "X.columns = [\"numeric_values\"]\n",
    "y = X.pop(\"numeric_values\")"
   ]
  },
  {
   "cell_type": "code",
   "execution_count": 14,
   "id": "506cbd07",
   "metadata": {},
   "outputs": [
    {
     "data": {
      "text/html": [
       "<div>\n",
       "<style scoped>\n",
       "    .dataframe tbody tr th:only-of-type {\n",
       "        vertical-align: middle;\n",
       "    }\n",
       "\n",
       "    .dataframe tbody tr th {\n",
       "        vertical-align: top;\n",
       "    }\n",
       "\n",
       "    .dataframe thead th {\n",
       "        text-align: right;\n",
       "    }\n",
       "</style>\n",
       "<table border=\"1\" class=\"dataframe\">\n",
       "  <thead>\n",
       "    <tr style=\"text-align: right;\">\n",
       "      <th></th>\n",
       "      <th>series_categories</th>\n",
       "    </tr>\n",
       "    <tr>\n",
       "      <th>month</th>\n",
       "      <th></th>\n",
       "    </tr>\n",
       "  </thead>\n",
       "  <tbody>\n",
       "    <tr>\n",
       "      <th>2013-04-30</th>\n",
       "      <td>prices</td>\n",
       "    </tr>\n",
       "    <tr>\n",
       "      <th>2013-04-30</th>\n",
       "      <td>market_caps</td>\n",
       "    </tr>\n",
       "    <tr>\n",
       "      <th>2013-04-30</th>\n",
       "      <td>total_volumes</td>\n",
       "    </tr>\n",
       "    <tr>\n",
       "      <th>2013-05-31</th>\n",
       "      <td>prices</td>\n",
       "    </tr>\n",
       "    <tr>\n",
       "      <th>2013-05-31</th>\n",
       "      <td>market_caps</td>\n",
       "    </tr>\n",
       "  </tbody>\n",
       "</table>\n",
       "</div>"
      ],
      "text/plain": [
       "           series_categories\n",
       "month                       \n",
       "2013-04-30            prices\n",
       "2013-04-30       market_caps\n",
       "2013-04-30     total_volumes\n",
       "2013-05-31            prices\n",
       "2013-05-31       market_caps"
      ]
     },
     "execution_count": 14,
     "metadata": {},
     "output_type": "execute_result"
    }
   ],
   "source": [
    "X = X.reset_index()\n",
    "X.index = X.level_0\n",
    "X.index.name = \"month\"\n",
    "\n",
    "X[\"series_categories\"] = X.level_1\n",
    "X.drop([\"level_0\", \"level_1\"], axis=1, inplace=True)\n",
    "X.head()"
   ]
  },
  {
   "cell_type": "code",
   "execution_count": 15,
   "id": "271f6133",
   "metadata": {},
   "outputs": [
    {
     "data": {
      "text/html": [
       "<div>\n",
       "<style scoped>\n",
       "    .dataframe tbody tr th:only-of-type {\n",
       "        vertical-align: middle;\n",
       "    }\n",
       "\n",
       "    .dataframe tbody tr th {\n",
       "        vertical-align: top;\n",
       "    }\n",
       "\n",
       "    .dataframe thead th {\n",
       "        text-align: right;\n",
       "    }\n",
       "</style>\n",
       "<table border=\"1\" class=\"dataframe\">\n",
       "  <thead>\n",
       "    <tr style=\"text-align: right;\">\n",
       "      <th></th>\n",
       "      <th>series_categories</th>\n",
       "    </tr>\n",
       "    <tr>\n",
       "      <th>month</th>\n",
       "      <th></th>\n",
       "    </tr>\n",
       "  </thead>\n",
       "  <tbody>\n",
       "    <tr>\n",
       "      <th>2013-04-30</th>\n",
       "      <td>0</td>\n",
       "    </tr>\n",
       "    <tr>\n",
       "      <th>2013-04-30</th>\n",
       "      <td>1</td>\n",
       "    </tr>\n",
       "    <tr>\n",
       "      <th>2013-04-30</th>\n",
       "      <td>2</td>\n",
       "    </tr>\n",
       "    <tr>\n",
       "      <th>2013-05-31</th>\n",
       "      <td>0</td>\n",
       "    </tr>\n",
       "    <tr>\n",
       "      <th>2013-05-31</th>\n",
       "      <td>1</td>\n",
       "    </tr>\n",
       "  </tbody>\n",
       "</table>\n",
       "</div>"
      ],
      "text/plain": [
       "            series_categories\n",
       "month                        \n",
       "2013-04-30                  0\n",
       "2013-04-30                  1\n",
       "2013-04-30                  2\n",
       "2013-05-31                  0\n",
       "2013-05-31                  1"
      ]
     },
     "execution_count": 15,
     "metadata": {},
     "output_type": "execute_result"
    }
   ],
   "source": [
    "# Label encoding for 'categories' feature\n",
    "for colname in X.select_dtypes([\"object\", \"category\"]):\n",
    "    X[colname], _ = X[colname].factorize()\n",
    "X.head()"
   ]
  },
  {
   "cell_type": "code",
   "execution_count": 16,
   "id": "814feb71",
   "metadata": {},
   "outputs": [],
   "source": [
    "X[\"Month\"] = X.index.month\n",
    "\n",
    "X_train, X_test = X.loc[idx_train, :], X.loc[idx_test, :]\n",
    "y_train, y_test = y.loc[idx_train], y.loc[idx_test]"
   ]
  },
  {
   "cell_type": "code",
   "execution_count": 17,
   "id": "9d56c6a8",
   "metadata": {},
   "outputs": [],
   "source": [
    "# Pivot wide to long (stack) and convert DataFrame to Series (squeeze)\n",
    "y_fit = y_fit.stack().squeeze()    # trend from training set\n",
    "y_pred = y_pred.stack().squeeze()  # trend from test set"
   ]
  },
  {
   "cell_type": "code",
   "execution_count": 18,
   "id": "54a9914e",
   "metadata": {},
   "outputs": [],
   "source": [
    "# Create residuals (the collection of detrended series) from the training set\n",
    "y_resid = y_train - y_fit"
   ]
  },
  {
   "cell_type": "code",
   "execution_count": 19,
   "id": "facb3162",
   "metadata": {},
   "outputs": [],
   "source": [
    "# Train XGBoost on the residuals\n",
    "xgb = XGBRegressor(n_jobs=1) # reduce to one core. Local machine problem with multiprocessing\n",
    "xgb.fit(X_train, y_resid)\n",
    "\n",
    "# Add the predicted residuals onto the predicted trends\n",
    "y_fit_boosted = xgb.predict(X_train) + y_fit\n",
    "y_pred_boosted = xgb.predict(X_test) + y_pred"
   ]
  },
  {
   "cell_type": "code",
   "execution_count": 20,
   "id": "05787f44",
   "metadata": {},
   "outputs": [
    {
     "data": {
      "image/png": "[encoded data removed]",
      "text/plain": [
       "<Figure size 792x360 with 3 Axes>"
      ]
     },
     "metadata": {},
     "output_type": "display_data"
    }
   ],
   "source": [
    "axs = y_train.unstack().plot(\n",
    "    color='0.25', figsize=(11, 5), subplots=True, sharex=True,\n",
    "    title=list(df.columns),\n",
    ")\n",
    "axs = y_test.unstack().plot(\n",
    "    color='0.25', subplots=True, sharex=True, ax=axs,\n",
    ")\n",
    "axs = y_fit_boosted.unstack().plot(\n",
    "    color='C0', subplots=True, sharex=True, ax=axs,\n",
    ")\n",
    "axs = y_pred_boosted.unstack().plot(\n",
    "    color='C3', subplots=True, sharex=True, ax=axs,\n",
    ")\n",
    "for ax in axs: ax.legend([])"
   ]
  },
  {
   "cell_type": "markdown",
   "id": "f31a1691",
   "metadata": {},
   "source": [
    "Well... Comining a linear model and XGBoost didn't really improve performance."
   ]
  },
  {
   "cell_type": "markdown",
   "id": "620788c5",
   "metadata": {},
   "source": [
    "### New Trial"
   ]
  },
  {
   "cell_type": "code",
   "execution_count": 21,
   "id": "c0c1b216",
   "metadata": {},
   "outputs": [
    {
     "data": {
      "text/html": [
       "<div>\n",
       "<style scoped>\n",
       "    .dataframe tbody tr th:only-of-type {\n",
       "        vertical-align: middle;\n",
       "    }\n",
       "\n",
       "    .dataframe tbody tr th {\n",
       "        vertical-align: top;\n",
       "    }\n",
       "\n",
       "    .dataframe thead th {\n",
       "        text-align: right;\n",
       "    }\n",
       "</style>\n",
       "<table border=\"1\" class=\"dataframe\">\n",
       "  <thead>\n",
       "    <tr style=\"text-align: right;\">\n",
       "      <th></th>\n",
       "      <th>prices</th>\n",
       "      <th>market_caps</th>\n",
       "      <th>total_volumes</th>\n",
       "    </tr>\n",
       "    <tr>\n",
       "      <th>date</th>\n",
       "      <th></th>\n",
       "      <th></th>\n",
       "      <th></th>\n",
       "    </tr>\n",
       "  </thead>\n",
       "  <tbody>\n",
       "    <tr>\n",
       "      <th>2013-04-28</th>\n",
       "      <td>103.1862</td>\n",
       "      <td>1.144366e+09</td>\n",
       "      <td>0.0</td>\n",
       "    </tr>\n",
       "    <tr>\n",
       "      <th>2013-04-29</th>\n",
       "      <td>110.3745</td>\n",
       "      <td>1.224594e+09</td>\n",
       "      <td>0.0</td>\n",
       "    </tr>\n",
       "    <tr>\n",
       "      <th>2013-04-30</th>\n",
       "      <td>106.3128</td>\n",
       "      <td>1.179937e+09</td>\n",
       "      <td>0.0</td>\n",
       "    </tr>\n",
       "  </tbody>\n",
       "</table>\n",
       "</div>"
      ],
      "text/plain": [
       "              prices   market_caps  total_volumes\n",
       "date                                             \n",
       "2013-04-28  103.1862  1.144366e+09            0.0\n",
       "2013-04-29  110.3745  1.224594e+09            0.0\n",
       "2013-04-30  106.3128  1.179937e+09            0.0"
      ]
     },
     "execution_count": 21,
     "metadata": {},
     "output_type": "execute_result"
    }
   ],
   "source": [
    "df = get_ts(coin=\"bitcoin\",days=\"max\")\n",
    "df.index = pd.to_datetime(df.index)\n",
    "df.index.name = \"date\"\n",
    "df.fillna(df.mean(), inplace=True)\n",
    "df.head(3)"
   ]
  },
  {
   "cell_type": "code",
   "execution_count": 29,
   "id": "f4c15708",
   "metadata": {},
   "outputs": [],
   "source": [
    "class BoostedHybrid:\n",
    "    \n",
    "    def __init__(self, model_1, model_2):\n",
    "        self.model_1 = model_1\n",
    "        self.model_2 = model_2\n",
    "        self.y_columns = None  # store column names from fit method\n",
    "    \n",
    "    def fit(self, X_1, X_2, y):\n",
    "        # Train model_1\n",
    "        self.model_1.fit(X_1, y)\n",
    "        if isinstance(y,pd.Series):\n",
    "            y = pd.DataFrame(y)\n",
    "\n",
    "        # Make predictions\n",
    "        y_fit = pd.DataFrame(\n",
    "            self.model_1.predict(X_1), \n",
    "            index=X_1.index, columns=y.columns,\n",
    "        )\n",
    "\n",
    "        # Compute residuals\n",
    "        y_resid = y - y_fit\n",
    "        \n",
    "        print(type(y_resid))\n",
    "        #print(y_resid.head())\n",
    "        \n",
    "        y_resid = y_resid.stack().squeeze() # wide to long\n",
    "        \n",
    "        print(type(y_resid))\n",
    "        #print(y_resid.head())\n",
    "\n",
    "        # Train model_2 on residuals\n",
    "        self.model_2.fit(X_2, y_resid)\n",
    "\n",
    "        # Save column names for predict method\n",
    "        self.y_columns = y.columns\n",
    "        # Save data for question checking\n",
    "        self.y_fit = y_fit\n",
    "        self.y_resid = y_resid\n",
    "\n",
    "    def predict(self, X_1, X_2):\n",
    "        # Predict with model_1\n",
    "        y_pred = pd.DataFrame(\n",
    "            self.model_1.predict(X_1), \n",
    "            index=X_1.index, columns=self.y_columns,\n",
    "        )\n",
    "        y_pred = y_pred.stack().squeeze()  # wide to long\n",
    "\n",
    "        # Add model_2 predictions to model_1 predictions\n",
    "        y_pred += self.model_2.predict(X_2)\n",
    "\n",
    "        return y_pred.unstack()"
   ]
  },
  {
   "cell_type": "code",
   "execution_count": 47,
   "id": "570f17c8",
   "metadata": {},
   "outputs": [
    {
     "name": "stdout",
     "output_type": "stream",
     "text": [
      "3101 3101 6202\n"
     ]
    }
   ],
   "source": [
    "# Target series\n",
    "y = df.loc[:, 'prices']\n",
    "\n",
    "# X_1: Features for Linear Regression\n",
    "dp = DeterministicProcess(index=y.index, order=1)\n",
    "X_1 = dp.in_sample()\n",
    "\n",
    "# X_2: Features for XGBoost\n",
    "X_2 = df.drop('prices', axis=1).stack()\n",
    "print(len(y),len(X_1),len(X_2))"
   ]
  },
  {
   "cell_type": "code",
   "execution_count": 48,
   "id": "1bf65748",
   "metadata": {},
   "outputs": [
    {
     "data": {
      "text/html": [
       "<div>\n",
       "<style scoped>\n",
       "    .dataframe tbody tr th:only-of-type {\n",
       "        vertical-align: middle;\n",
       "    }\n",
       "\n",
       "    .dataframe tbody tr th {\n",
       "        vertical-align: top;\n",
       "    }\n",
       "\n",
       "    .dataframe thead th {\n",
       "        text-align: right;\n",
       "    }\n",
       "</style>\n",
       "<table border=\"1\" class=\"dataframe\">\n",
       "  <thead>\n",
       "    <tr style=\"text-align: right;\">\n",
       "      <th></th>\n",
       "      <th>level_1</th>\n",
       "      <th>numeric_values</th>\n",
       "    </tr>\n",
       "    <tr>\n",
       "      <th>date</th>\n",
       "      <th></th>\n",
       "      <th></th>\n",
       "    </tr>\n",
       "  </thead>\n",
       "  <tbody>\n",
       "    <tr>\n",
       "      <th>2013-04-28</th>\n",
       "      <td>market_caps</td>\n",
       "      <td>1.144366e+09</td>\n",
       "    </tr>\n",
       "    <tr>\n",
       "      <th>2013-04-28</th>\n",
       "      <td>total_volumes</td>\n",
       "      <td>0.000000e+00</td>\n",
       "    </tr>\n",
       "    <tr>\n",
       "      <th>2013-04-29</th>\n",
       "      <td>market_caps</td>\n",
       "      <td>1.224594e+09</td>\n",
       "    </tr>\n",
       "  </tbody>\n",
       "</table>\n",
       "</div>"
      ],
      "text/plain": [
       "                  level_1  numeric_values\n",
       "date                                     \n",
       "2013-04-28    market_caps    1.144366e+09\n",
       "2013-04-28  total_volumes    0.000000e+00\n",
       "2013-04-29    market_caps    1.224594e+09"
      ]
     },
     "execution_count": 48,
     "metadata": {},
     "output_type": "execute_result"
    }
   ],
   "source": [
    "X_2 = pd.DataFrame(X_2)\n",
    "X_2.columns = [\"numeric_values\"]\n",
    "X_2 = X_2.reset_index()\n",
    "X_2.index = X_2.date\n",
    "X_2.drop(\"date\", axis=1, inplace=True)\n",
    "X_2.head(3)"
   ]
  },
  {
   "cell_type": "code",
   "execution_count": 49,
   "id": "5aa8a1d9",
   "metadata": {},
   "outputs": [
    {
     "data": {
      "text/plain": [
       "numeric_values       float64\n",
       "series_categories      int64\n",
       "day                    int64\n",
       "dtype: object"
      ]
     },
     "execution_count": 49,
     "metadata": {},
     "output_type": "execute_result"
    }
   ],
   "source": [
    "from sklearn.preprocessing import LabelEncoder\n",
    "le = LabelEncoder()  \n",
    "\n",
    "X_2['series_categories'] = le.fit_transform(X_2['level_1'])\n",
    "X_2.drop(\"level_1\", axis=1, inplace=True)\n",
    "\n",
    "# Label encoding for seasonality\n",
    "X_2[\"day\"] = X_2.index.day  # values are day of the month\n",
    "X_2.head()"
   ]
  },
  {
   "cell_type": "raw",
   "id": "fed15885",
   "metadata": {},
   "source": [
    "# Create model\n",
    "model = BoostedHybrid(\n",
    "    model_1=LinearRegression(),\n",
    "    model_2=XGBRegressor(n_jobs=1),\n",
    ")\n",
    "model.fit(X_1, X_2, y)\n",
    "#X_2.head()\n",
    "y"
   ]
  },
  {
   "cell_type": "raw",
   "id": "dfb8b5ea",
   "metadata": {},
   "source": [
    "y_pred = model.predict(X_1, X_2)\n",
    "y_pred = y_pred.clip(0.0)"
   ]
  },
  {
   "cell_type": "code",
   "execution_count": null,
   "id": "ca819ee4",
   "metadata": {},
   "outputs": [],
   "source": []
  }
 ],
 "metadata": {
  "kernelspec": {
   "display_name": "Python 3 (ipykernel)",
   "language": "python",
   "name": "python3"
  },
  "language_info": {
   "codemirror_mode": {
    "name": "ipython",
    "version": 3
   },
   "file_extension": ".py",
   "mimetype": "text/x-python",
   "name": "python",
   "nbconvert_exporter": "python",
   "pygments_lexer": "ipython3",
   "version": "3.8.10"
  }
 },
 "nbformat": 4,
 "nbformat_minor": 5
}
